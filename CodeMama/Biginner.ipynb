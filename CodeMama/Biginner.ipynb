{
 "cells": [
  {
   "cell_type": "markdown",
   "id": "80550023-42d9-4f9a-bce3-aba0a84dc741",
   "metadata": {},
   "source": [
    "\n",
    "#### 1 Remove Special Character\n",
    "\n",
    "Problem Statement\n",
    "\n",
    "Write a program to Create a function that takes a string, removes all \"special\" characters (e.g. ., !, @, #, $, %, ^, &, , \\*, (, )) and returns the new string.\n",
    "\n",
    "  \n",
    "\n",
    "Input\n",
    "\n",
    "The program will take a string S\n",
    "\n",
    "  \n",
    "\n",
    "Output\n",
    "\n",
    "The output will print a string without any special character.\n",
    "\n",
    "  \n",
    "\n",
    "Constraints\n",
    "\n",
    "0 ≤ |S| ≤ 1000\n",
    "\n",
    "Input special characters will be from (., !, @, #, $, %, ^, &, , \\*, (, ))\n",
    "\n",
    "Example:\n",
    "\n",
    "Enter string\n",
    "\n",
    "  \n",
    "\n",
    "Input:\n",
    "\n",
    "ab!cd\n",
    "\n",
    "Output:\n",
    "\n",
    "abcd"
   ]
  },
  {
   "cell_type": "code",
   "execution_count": 1,
   "id": "d8a64539-2aa6-4790-bae7-feee1cf08721",
   "metadata": {},
   "outputs": [
    {
     "name": "stdout",
     "output_type": "stream",
     "text": [
      " H#&el*^&^l)**o\n"
     ]
    },
    {
     "name": "stdout",
     "output_type": "stream",
     "text": [
      "Hello\n"
     ]
    }
   ],
   "source": [
    "special_char = '.!@#$%^&*()/'\n",
    "S = input()\n",
    "print(''.join(c for c in S if c not in special_char))"
   ]
  },
  {
   "cell_type": "code",
   "execution_count": null,
   "id": "7e1de87c-4a14-429c-94c6-644f1a135e02",
   "metadata": {},
   "outputs": [],
   "source": []
  },
  {
   "cell_type": "markdown",
   "id": "53504d12-ca9d-440c-9e2c-7eba64a5ed59",
   "metadata": {
    "vscode": {
     "languageId": "raw"
    }
   },
   "source": [
    "#### 2. Find Number From String\n",
    "\n",
    "Problem Statement\n",
    "Write a program to find a number from a string. An input string will contain english letters along with a number.There will be only one number in the string.You will have to find that number and print it.\n",
    "\n",
    "\n",
    "Input\n",
    "\n",
    "The program will take a string S\n",
    "\n",
    "Output\n",
    "\n",
    "The output will print a number.\n",
    "\n",
    "\n",
    "Constraints\n",
    "\n",
    "0 ≤ |N| ≤ 10000\n",
    "\n",
    "Example:\n",
    "\n",
    "Enter string\n",
    "\n",
    "\n",
    "Input:\n",
    "\n",
    "ab1cd\n",
    "\n",
    "Output:\n",
    "\n",
    "1"
   ]
  },
  {
   "cell_type": "code",
   "execution_count": 2,
   "id": "6a47b1a9-d11a-4a37-bccb-d7688b07af6a",
   "metadata": {},
   "outputs": [
    {
     "name": "stdout",
     "output_type": "stream",
     "text": [
      " H57ell09o\n"
     ]
    },
    {
     "name": "stdout",
     "output_type": "stream",
     "text": [
      "5709\n"
     ]
    }
   ],
   "source": [
    "numbers = '0123456789'\n",
    "S = input()\n",
    "print(''.join(c for c in S if c in numbers))"
   ]
  },
  {
   "cell_type": "code",
   "execution_count": 5,
   "id": "15a5f4eb-6582-48b5-a435-3b9af51aa0ef",
   "metadata": {},
   "outputs": [
    {
     "name": "stdout",
     "output_type": "stream",
     "text": [
      " hf45fdh476k\n"
     ]
    },
    {
     "name": "stdout",
     "output_type": "stream",
     "text": [
      "45476\n"
     ]
    }
   ],
   "source": [
    "S = input()\n",
    "print(''.join(c for c in S if c.isdigit()))"
   ]
  },
  {
   "cell_type": "code",
   "execution_count": null,
   "id": "0556f073-cc0c-4460-a9b2-88622b1884a2",
   "metadata": {},
   "outputs": [],
   "source": []
  },
  {
   "cell_type": "raw",
   "id": "8da58e27-7ddc-4bc8-830d-1cdee296d62a",
   "metadata": {},
   "source": [
    "3. Sum of Natural Numbers\n",
    "Problem Statement\n",
    "Write a program that calculates the sum of natural numbers up to a given number 'n'. For example, if the input is 5, the program should calculate and display the sum of natural numbers from 1 to 5 (1 + 2 + 3 + 4 + 5 = 15)\n",
    "\n",
    "Input\n",
    "The program will take an integer N\n",
    "\n",
    "Output\n",
    "The output will print sum of N numbers.\n",
    "\n",
    "Constraints\n",
    "0 ≤ |N| ≤ 10000\n",
    "Example:\n",
    "Enter number\n",
    "\n",
    "Input:\n",
    "5\n",
    "Output:\n",
    "15"
   ]
  },
  {
   "cell_type": "code",
   "execution_count": 3,
   "id": "b4c1ca65-9454-471a-b00d-6bf25f76cbff",
   "metadata": {},
   "outputs": [
    {
     "name": "stdout",
     "output_type": "stream",
     "text": [
      " 5\n"
     ]
    },
    {
     "name": "stdout",
     "output_type": "stream",
     "text": [
      "<built-in function sum>\n"
     ]
    }
   ],
   "source": [
    "N = int(input())\n",
    "summation = 0\n",
    "for i in range(1,N +1):\n",
    "    summation = summation + i\n",
    "print(summation)"
   ]
  },
  {
   "cell_type": "code",
   "execution_count": 4,
   "id": "83cff107-47e2-4333-beba-ada0f678fc58",
   "metadata": {},
   "outputs": [
    {
     "name": "stdout",
     "output_type": "stream",
     "text": [
      "Enter number: 6\n"
     ]
    },
    {
     "name": "stdout",
     "output_type": "stream",
     "text": [
      "21\n"
     ]
    }
   ],
   "source": [
    "# Read the input\n",
    "N = int(input(\"Enter number:\"))\n",
    "\n",
    "# Check if N is zero\n",
    "if N == 0:\n",
    "    sum_natural = 0\n",
    "else:\n",
    "    sum_natural = N * (N + 1) // 2\n",
    "\n",
    "# Print the result\n",
    "print(sum_natural)"
   ]
  },
  {
   "cell_type": "code",
   "execution_count": null,
   "id": "9e06e967-0135-4748-a500-88539e360dc3",
   "metadata": {},
   "outputs": [],
   "source": []
  },
  {
   "cell_type": "raw",
   "id": "8f23ea5e-b5a8-4239-99b5-f5367419cc88",
   "metadata": {},
   "source": [
    "4. Zero or One\n",
    "\n",
    "Problem Statement\n",
    "A number from 0 to 9 will be presented as an word in lower case english letter. For example- three. The program will take it as input. Print 0 if the remainder is 0 while the number is divided by 2, otherwise print 1 if the remainder is 1.\n",
    "\n",
    "Input\n",
    "The program will take a string S as input.\n",
    "\n",
    "Output\n",
    "The output will print either 0 0r 1.\n",
    "\n",
    "Constraints\n",
    "0 ≤ |S| ≤ 9\n",
    "Example:\n",
    "Enter string\n",
    "\n",
    "Input:\n",
    "three\n",
    "Output:\n",
    "1"
   ]
  },
  {
   "cell_type": "code",
   "execution_count": 5,
   "id": "3d6ec03c-452d-4f86-a3cf-66da7025d798",
   "metadata": {},
   "outputs": [
    {
     "name": "stdout",
     "output_type": "stream",
     "text": [
      " six\n"
     ]
    },
    {
     "name": "stdout",
     "output_type": "stream",
     "text": [
      "0\n"
     ]
    }
   ],
   "source": [
    "#Mapping of word to digit\n",
    "word_to_digit = {\n",
    "    'zero': 0,\n",
    "    'one': 1,\n",
    "    'two': 2,\n",
    "    'three': 3,\n",
    "    'four': 4,\n",
    "    'five': 5,\n",
    "    'six': 6,\n",
    "    'seven': 7,\n",
    "    'eight': 8,\n",
    "    'nine': 9\n",
    "}\n",
    "\n",
    "#input string\n",
    "S = input()\n",
    "\n",
    "#conversion to digit\n",
    "digit = word_to_digit[S]\n",
    "\n",
    "#show reminder\n",
    "print(digit % 2)"
   ]
  },
  {
   "cell_type": "code",
   "execution_count": null,
   "id": "8f90d348-b431-4ad5-ab8b-a8142bcb677e",
   "metadata": {},
   "outputs": [],
   "source": []
  },
  {
   "cell_type": "raw",
   "id": "1b6451d1-40aa-4671-b23a-3c3bba209d98",
   "metadata": {},
   "source": [
    "5. Repdigit\n",
    "\n",
    "Problem Statement\n",
    "Write a program to check whether a number is Repdigit or not. A repdigit is a positive number composed out of the same digit.\n",
    "7 → single digit → repdigit\n",
    "11 → digits are all 1 → repdigit\n",
    "22 → digits are all 2 → repdigit\n",
    "333 → digits are all 3 → repdigit\n",
    "4444 → digits are all 4 → repdigit\n",
    "99999 → digits are all 9 → repdigit\n",
    "\n",
    "Input\n",
    "The input consists of a positive integer number N\n",
    "\n",
    "Output\n",
    "The output will print either \"true\" or \"false\".\n",
    "\n",
    "Constraints\n",
    "0 ≤ |N| ≤ 10000\n",
    "Example:\n",
    "Enter number\n",
    "\n",
    "Input:\n",
    "55\n",
    "Output:\n",
    "true"
   ]
  },
  {
   "cell_type": "code",
   "execution_count": 6,
   "id": "e6551f3f-c20e-4e8b-9e77-4a57ca1c43c5",
   "metadata": {},
   "outputs": [
    {
     "name": "stdout",
     "output_type": "stream",
     "text": [
      " 55\n"
     ]
    },
    {
     "name": "stdout",
     "output_type": "stream",
     "text": [
      "true\n"
     ]
    }
   ],
   "source": [
    "#input digit\n",
    "N = input()\n",
    "\n",
    "if len(set(N)) == 1:\n",
    "    print('true')\n",
    "else:\n",
    "    print('false')"
   ]
  },
  {
   "cell_type": "code",
   "execution_count": null,
   "id": "1af388ef-1de6-4f9b-bd69-ec1c2a131c3f",
   "metadata": {},
   "outputs": [],
   "source": []
  },
  {
   "cell_type": "raw",
   "id": "0c51fe68-cb66-4f62-a896-d12ad446fd6d",
   "metadata": {},
   "source": [
    "6 Sum Digits: Odd or Even?\n",
    "Problem Statement\n",
    "Write a program which will determine whether the sum of all the digits of the number is even or odd.\n",
    "\n",
    "Input\n",
    "The program will take an integer N as input.\n",
    "\n",
    "Output\n",
    "The output will print either \"Odd\" or \"Even\"\n",
    "\n",
    "Constraints\n",
    "0 ≤ |N| ≤ 100000\n",
    "Example:\n",
    "Enter number\n",
    "\n",
    "Input:\n",
    "123\n",
    "Output:\n",
    "Even"
   ]
  },
  {
   "cell_type": "code",
   "execution_count": 10,
   "id": "f0205f00-10df-4018-9966-d578517f26d2",
   "metadata": {},
   "outputs": [
    {
     "name": "stdout",
     "output_type": "stream",
     "text": [
      " 598\n"
     ]
    },
    {
     "name": "stdout",
     "output_type": "stream",
     "text": [
      "22\n",
      "even\n"
     ]
    }
   ],
   "source": [
    "#input number\n",
    "N = list(input())\n",
    "\n",
    "summation = 0\n",
    "\n",
    "for i in N:\n",
    "    summation += int(i)\n",
    "print(summation)\n",
    "if summation%2 == 0:\n",
    "    print('even')\n",
    "else:\n",
    "    print('odd')\n",
    "\n"
   ]
  },
  {
   "cell_type": "code",
   "execution_count": 6,
   "id": "4fc805c6-b91a-41b1-a1cb-be515016e2b7",
   "metadata": {},
   "outputs": [
    {
     "name": "stdout",
     "output_type": "stream",
     "text": [
      "Even\n"
     ]
    }
   ],
   "source": [
    "# Read input as integer\n",
    "N = int(input(\"Enter number\\n\"))\n",
    "\n",
    "# Get the absolute value to handle negative numbers\n",
    "N = abs(N)\n",
    "\n",
    "# Convert to string and sum the digits\n",
    "digit_sum = sum(int(digit) for digit in str(N))\n",
    "\n",
    "# Check if the sum is even or odd\n",
    "if digit_sum % 2 == 0:\n",
    "    print(\"Even\")\n",
    "else:\n",
    "    print(\"Odd\")"
   ]
  },
  {
   "cell_type": "code",
   "execution_count": null,
   "id": "da903299-6168-43b9-93ef-1c32fc57e9cf",
   "metadata": {},
   "outputs": [
    {
     "name": "stdout",
     "output_type": "stream",
     "text": [
      "Enter number\n",
      " 145\n"
     ]
    },
    {
     "name": "stdout",
     "output_type": "stream",
     "text": [
      "Even\n"
     ]
    }
   ],
   "source": [
    "N = abs(int(input(\"Enter number\\n\")))\n",
    "print(\"Even\" if sum(int(d) for d in str(N)) % 2 == 0 else \"Odd\")"
   ]
  },
  {
   "cell_type": "code",
   "execution_count": null,
   "id": "9bc5290a-e198-43e8-80a6-2d97099cc9f8",
   "metadata": {},
   "outputs": [],
   "source": []
  },
  {
   "cell_type": "markdown",
   "id": "75420fda-3757-4e3f-b659-f0d8ddc602aa",
   "metadata": {},
   "source": [
    "# 7. Consecutive Numbers\n",
    "## Problem Statement\n",
    "\n",
    "Write a program to create a function that determines whether elements in an array can be re-arranged to form a consecutive list of numbers where each number appears exactly once. The difference between two numbers will be 1 always.\n",
    "\n",
    "### Input\n",
    "\n",
    "The program will take an integer N as the size of an array. Then it will take the integer values of the array M\\[\\].\n",
    "\n",
    "### Output\n",
    "\n",
    "The output will print either \"true\" or \"false\"\n",
    "\n",
    "### Constraints\n",
    "\n",
    "* *   0 ≤ |N| ≤ 100000\n",
    "* *   0 ≤ |M\\[\\]| ≤ 100000\n",
    "\n",
    "### Example-1:\n",
    "\n",
    "Enter numbers\n",
    "\n",
    "#### Input:\n",
    "\n",
    "```\n",
    "5\n",
    "4 2 3 1 0\n",
    "```\n",
    "\n",
    "#### Output:\n",
    "\n",
    "```\n",
    "true\n",
    "```\n",
    "\n",
    "### Example-2:\n",
    "\n",
    "Enter numbers\n",
    "\n",
    "#### Input:\n",
    "\n",
    "```\n",
    "6\n",
    "1 2 3 4 4 5\n",
    "```\n",
    "\n",
    "#### Output:\n",
    "\n",
    "```\n",
    "false\n",
    "```\n",
    "\n",
    "### Notes:\n",
    "\n",
    "If there are any duplicates, it's impossible to form a consecutive list"
   ]
  },
  {
   "cell_type": "code",
   "execution_count": 8,
   "id": "020456a9-4440-434d-be34-5bac0d81a846",
   "metadata": {},
   "outputs": [
    {
     "name": "stdout",
     "output_type": "stream",
     "text": [
      "false\n"
     ]
    }
   ],
   "source": [
    "class ConsecutiveNumbers:\n",
    "    def __init__(self, N, c_array):\n",
    "        self.N = N\n",
    "        self.c_array = c_array\n",
    "    \n",
    "    def is_consecutive(self):\n",
    "        if self.N == 0:\n",
    "            print(\"true\")\n",
    "        \n",
    "        elif len(self.c_array) != self.N:\n",
    "            print(\"false\")\n",
    "        \n",
    "        elif len(self.c_array) == len(set(self.c_array)):\n",
    "          self.c_array.sort()\n",
    "          j = self.c_array[0] - 1\n",
    "          for i in c_array:\n",
    "            if i - j == 1:\n",
    "                j = i \n",
    "                if i == len(self.c_array) -1:\n",
    "                    print(\"true\")                \n",
    "            else: \n",
    "                print(\"false\")\n",
    "                break\n",
    "\n",
    "        else:\n",
    "            print(\"false\")\n",
    "        \n",
    "# taking input       \n",
    "N = int(input())\n",
    "c_array= (input().split())\n",
    "c_array= [i  for i in map(int, c_array)]\n",
    "\n",
    "#Object creation an calling\n",
    "myObj = ConsecutiveNumbers(N, c_array)\n",
    "myObj.is_consecutive()"
   ]
  },
  {
   "cell_type": "code",
   "execution_count": null,
   "id": "0d0a6539",
   "metadata": {},
   "outputs": [],
   "source": [
    "def is_consecutive(arr):\n",
    "    # Convert the array to a set to remove duplicates\n",
    "    unique_numbers = set(arr)\n",
    "\n",
    "    # If the length changes after removing duplicates, return False\n",
    "    if len(unique_numbers) != len(arr):\n",
    "        return False\n",
    "\n",
    "    # Check if max - min + 1 equals the number of unique elements\n",
    "    return max(unique_numbers) - min(unique_numbers) + 1 == len(unique_numbers)\n",
    "\n",
    "# --- Input Section ---\n",
    "print(\"Enter numbers\")\n",
    "\n",
    "# Read size of array\n",
    "N = int(input())\n",
    "\n",
    "# Read array elements as a list of integers\n",
    "M = list(map(int, input().split()))\n",
    "\n",
    "# Output the result\n",
    "print(\"true\" if is_consecutive(M) else \"false\")"
   ]
  },
  {
   "cell_type": "markdown",
   "id": "bca0e682",
   "metadata": {},
   "source": [
    "**Sorting String By Length**"
   ]
  },
  {
   "cell_type": "code",
   "execution_count": null,
   "id": "859a0a88",
   "metadata": {},
   "outputs": [
    {
     "name": "stdout",
     "output_type": "stream",
     "text": [
      "a ab abc abcd\n"
     ]
    }
   ],
   "source": [
    "def sort_by_length(s):\n",
    "    return len(s)\n",
    "\n",
    "N = int(input())\n",
    "M = input().split(\" \")\n",
    "\n",
    "M.sort(key = sort_by_length)\n",
    "print(' '.join(M))"
   ]
  },
  {
   "cell_type": "code",
   "execution_count": null,
   "id": "517f9e4d",
   "metadata": {},
   "outputs": [
    {
     "name": "stdout",
     "output_type": "stream",
     "text": [
      "a ab abc abcd\n"
     ]
    }
   ],
   "source": [
    "class StringSorter:\n",
    "    def __init__(self, string_list):\n",
    "        self.string_list = string_list\n",
    "    def sort_by_length(self, s):\n",
    "        return len(s)\n",
    "    def sorted_string(self):\n",
    "        self.string_list.sort(key = sort_by_length)\n",
    "        return self.string_list\n",
    "        # print(self.string_list)\n",
    "    \n",
    "N = int(input())\n",
    "M = input().split(\" \")\n",
    "# M = ['a', 'abcd', 'ab', 'abc']  # Checking purpuse.\n",
    "\n",
    "Sorted_M = StringSorter(M)\n",
    "Sorted_String = Sorted_M.sorted_string()\n",
    "print(' '.join(Sorted_String))"
   ]
  },
  {
   "cell_type": "code",
   "execution_count": 27,
   "id": "94a4ae2d",
   "metadata": {},
   "outputs": [
    {
     "name": "stdout",
     "output_type": "stream",
     "text": [
      "a ab abc abcd\n"
     ]
    }
   ],
   "source": [
    "class StringSorter:\n",
    "    # def __init__(self, string_list):\n",
    "    #     self.string_list = string_list\n",
    "    def sort_by_length (self, s):\n",
    "        return len(s)\n",
    "    def sorted_string(self, string_list):\n",
    "        string_list.sort(key = sort_by_length)\n",
    "        return string_list\n",
    "        # print(self.string_list)\n",
    "    \n",
    "# N = int(input())\n",
    "# M = input().split(\" \")\n",
    "M = ['a', 'abcd', 'ab', 'abc']  # Checking purpuse.\n",
    "\n",
    "Sorted_M = StringSorter()\n",
    "Sorted_String = Sorted_M.sorted_string(M)\n",
    "print(' '.join(Sorted_String))"
   ]
  },
  {
   "cell_type": "markdown",
   "id": "d6833b2b",
   "metadata": {},
   "source": [
    "### Cake Selection"
   ]
  },
  {
   "cell_type": "code",
   "execution_count": null,
   "id": "f080f8c9",
   "metadata": {},
   "outputs": [
    {
     "name": "stdout",
     "output_type": "stream",
     "text": [
      "No\n"
     ]
    }
   ],
   "source": [
    "class cake_selection:\n",
    "    def __init__(self, weight_of_cake, sugar_content, amount_of_calories):\n",
    "        self.weight_of_cake = weight_of_cake\n",
    "        self.sugar_content = sugar_content\n",
    "        self.amount_of_calories = amount_of_calories\n",
    "    \n",
    "    def cake_selector(self):\n",
    "        if self.weight_of_cake >= 200 and self.weight_of_cake <= 300 and self.sugar_content >= 50 and self.amount_of_calories >= 150:\n",
    "            print('Yes')\n",
    "        else:\n",
    "            print('No')\n",
    "            \n",
    "            \n",
    "            \n",
    "#input\n",
    "W, S, C = input().split()\n",
    "W, S, C = map(int, (W , S, C))\n",
    "\n",
    "# Object creation and calling\n",
    "my_cake = cake_selection(W, S, C)\n",
    "my_cake.cake_selector()"
   ]
  },
  {
   "cell_type": "markdown",
   "id": "4fdc4316",
   "metadata": {},
   "source": [
    "Assignment Deadline\n"
   ]
  },
  {
   "cell_type": "code",
   "execution_count": 2,
   "id": "b6503ac8",
   "metadata": {},
   "outputs": [
    {
     "name": "stdout",
     "output_type": "stream",
     "text": [
      "No\n"
     ]
    }
   ],
   "source": [
    "class assignmrntDeadline:\n",
    "    def __init__(self, N, A, B):\n",
    "        self.A = A\n",
    "        self.B = B\n",
    "        self.N = N\n",
    "        \n",
    "    def is_possible(self):\n",
    "        if (self.A + self.B) <= self.N:\n",
    "            print('Yes')\n",
    "        else:\n",
    "            print('No')\n",
    "            \n",
    "            \n",
    "# inpput the time remaining an required time for each assignment\n",
    "N, A, B = input().split()\n",
    "\n",
    "# Converting from string to integer\n",
    "N, A, B = map(int, (N, A, B))\n",
    "\n",
    "# Object creation and calling\n",
    "my_assignment = assignmrntDeadline(N, A, B)\n",
    "my_assignment.is_possible()"
   ]
  },
  {
   "cell_type": "markdown",
   "id": "0221cbb2",
   "metadata": {},
   "source": [
    "**Find the Odd Integer**"
   ]
  },
  {
   "cell_type": "code",
   "execution_count": 5,
   "id": "9f46ef27",
   "metadata": {},
   "outputs": [
    {
     "name": "stdout",
     "output_type": "stream",
     "text": [
      "5\n"
     ]
    }
   ],
   "source": [
    "class odd_appiarence_finder:\n",
    "    def __init__(self):\n",
    "        self.S = input().split()\n",
    "        \n",
    "    def odd_appiarence_checker(self):\n",
    "        for i in set(self.S):\n",
    "            if self.S.count(i) % 2 != 0:\n",
    "                print(i)\n",
    "                \n",
    "# Object creation and calling\n",
    "odd_count = odd_appiarence_finder()\n",
    "odd_count.odd_appiarence_checker()"
   ]
  },
  {
   "cell_type": "markdown",
   "id": "31cc94f3",
   "metadata": {},
   "source": [
    "### Gamble with Profit"
   ]
  },
  {
   "cell_type": "code",
   "execution_count": 6,
   "id": "d9cd874a",
   "metadata": {},
   "outputs": [
    {
     "name": "stdout",
     "output_type": "stream",
     "text": [
      "Any of the data is out of range. Please enter prob value between 0 and 1, and prize(N) and pay(M) between 0 and 10^4.\n",
      "Any of the data is out of range. Please enter prob value between 0 and 1, and prize(N) and pay(M) between 0 and 10^4.\n",
      "true\n"
     ]
    }
   ],
   "source": [
    "class GambleWithProfift:\n",
    "    def __init__(self):\n",
    "        self.F, self.N, self.M = input().split()\n",
    "        self.F = abs(float(self.F))\n",
    "        self.N = abs(int(self.N))\n",
    "        self.M = abs(int(self.M))\n",
    "    \n",
    "    def exception_checking(self):\n",
    "        if (self.F < 0 or self.F > 1) or (self.N  < 0 or self.N > pow(10, 4)) or (self.M < 0 or self.M > pow(10, 4)):\n",
    "            return True\n",
    "        \n",
    "        return False\n",
    "    \n",
    "    def gambling(self):\n",
    "        while self.exception_checking():\n",
    "            print(\"Any of the data is out of range. Please enter prob value between 0 and 1, and prize(N) and pay(M) between 0 and 10^4.\")\n",
    "            self.__init__()\n",
    "            \n",
    "        if self.F * self.N > self.M:\n",
    "            print('true')\n",
    "        else:\n",
    "            print('false')\n",
    "\n",
    "    \n",
    "my_obj = GambleWithProfift()\n",
    "my_obj.gambling() "
   ]
  },
  {
   "cell_type": "markdown",
   "id": "5b473bb4",
   "metadata": {},
   "source": [
    "Your current implementation is very close to being correct, but there’s one critical issue with the use of self.__init__() inside the while loop. While it's not a syntax error, manually calling __init__() like this is bad practice, and can lead to unpredictable behavior, especially if more state or logic is added to your class later."
   ]
  },
  {
   "cell_type": "code",
   "execution_count": null,
   "id": "58a50452",
   "metadata": {},
   "outputs": [],
   "source": [
    "class GambleWithProfit:\n",
    "    def __init__(self):\n",
    "        self.get_valid_input()\n",
    "    \n",
    "    def get_valid_input(self):\n",
    "        while True:\n",
    "            self.F, self.N, self.M = input().split()\n",
    "            self.F = abs(float(self.F))\n",
    "            self.N = abs(int(self.N))\n",
    "            self.M = abs(int(self.M))\n",
    "            if not self.exception_checking():\n",
    "                break\n",
    "            else:\n",
    "                print(\"Any of the data is out of range. Please enter prob value between 0 and 1, and prize(N) and pay(M) between 0 and 10^4.\")\n",
    "    \n",
    "    def exception_checking(self):\n",
    "        return (self.F < 0 or self.F > 1) or (self.N < 0 or self.N > 10**4) or (self.M < 0 or self.M > 10**4)\n",
    "    \n",
    "    def gambling(self):\n",
    "        if self.F * self.N > self.M:\n",
    "            print('true')\n",
    "        else:\n",
    "            print('false')\n",
    "\n",
    "# Create and use the object\n",
    "my_obj = GambleWithProfit()\n",
    "my_obj.gambling()"
   ]
  }
 ],
 "metadata": {
  "kernelspec": {
   "display_name": "Python 3",
   "language": "python",
   "name": "python3"
  },
  "language_info": {
   "codemirror_mode": {
    "name": "ipython",
    "version": 3
   },
   "file_extension": ".py",
   "mimetype": "text/x-python",
   "name": "python",
   "nbconvert_exporter": "python",
   "pygments_lexer": "ipython3",
   "version": "3.13.3"
  }
 },
 "nbformat": 4,
 "nbformat_minor": 5
}
