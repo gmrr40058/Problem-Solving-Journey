{
 "cells": [
  {
   "cell_type": "code",
   "execution_count": null,
   "id": "80550023-42d9-4f9a-bce3-aba0a84dc741",
   "metadata": {},
   "outputs": [],
   "source": [
    "1 Remove Special Character\n",
    "Problem Statement\n",
    "Write a program to Create a function that takes a string, removes all \"special\" characters (e.g. ., !, @, #, $, %, ^, &, , *, (, )) and returns the new string.\n",
    "\n",
    "Input\n",
    "The program will take a string S\n",
    "\n",
    "Output\n",
    "The output will print a string without any special character.\n",
    "\n",
    "Constraints\n",
    "0 ≤ |S| ≤ 1000\n",
    "Input special characters will be from (., !, @, #, $, %, ^, &, , *, (, ))\n",
    "Example:\n",
    "Enter string\n",
    "\n",
    "Input:\n",
    "ab!cd\n",
    "Output:\n",
    "abcd "
   ]
  },
  {
   "cell_type": "code",
   "execution_count": 1,
   "id": "d8a64539-2aa6-4790-bae7-feee1cf08721",
   "metadata": {},
   "outputs": [
    {
     "name": "stdin",
     "output_type": "stream",
     "text": [
      " H#&el*^&^l)**o\n"
     ]
    },
    {
     "name": "stdout",
     "output_type": "stream",
     "text": [
      "Hello\n"
     ]
    }
   ],
   "source": [
    "special_char = '.!@#$%^&*()/'\n",
    "S = input()\n",
    "print(''.join(c for c in S if c not in special_char))"
   ]
  },
  {
   "cell_type": "code",
   "execution_count": null,
   "id": "7e1de87c-4a14-429c-94c6-644f1a135e02",
   "metadata": {},
   "outputs": [],
   "source": []
  },
  {
   "cell_type": "raw",
   "id": "53504d12-ca9d-440c-9e2c-7eba64a5ed59",
   "metadata": {},
   "source": [
    "2. Find Number From String\n",
    "\n",
    "Problem Statement\n",
    "Write a program to find a number from a string. An input string will contain english letters along with a number.There will be only one number in the string.You will have to find that number and print it.\n",
    "\n",
    "Input\n",
    "The program will take a string S\n",
    "\n",
    "Output\n",
    "The output will print a number.\n",
    "\n",
    "Constraints\n",
    "0 ≤ |N| ≤ 10000\n",
    "Example:\n",
    "Enter string\n",
    "\n",
    "Input:\n",
    "ab1cd\n",
    "Output:\n",
    "1"
   ]
  },
  {
   "cell_type": "code",
   "execution_count": 2,
   "id": "6a47b1a9-d11a-4a37-bccb-d7688b07af6a",
   "metadata": {},
   "outputs": [
    {
     "name": "stdin",
     "output_type": "stream",
     "text": [
      " H57ell09o\n"
     ]
    },
    {
     "name": "stdout",
     "output_type": "stream",
     "text": [
      "5709\n"
     ]
    }
   ],
   "source": [
    "numbers = '0123456789'\n",
    "S = input()\n",
    "print(''.join(c for c in S if c in numbers))"
   ]
  },
  {
   "cell_type": "code",
   "execution_count": 5,
   "id": "15a5f4eb-6582-48b5-a435-3b9af51aa0ef",
   "metadata": {},
   "outputs": [
    {
     "name": "stdin",
     "output_type": "stream",
     "text": [
      " hf45fdh476k\n"
     ]
    },
    {
     "name": "stdout",
     "output_type": "stream",
     "text": [
      "45476\n"
     ]
    }
   ],
   "source": [
    "S = input()\n",
    "print(''.join(c for c in S if c.isdigit()))"
   ]
  },
  {
   "cell_type": "code",
   "execution_count": null,
   "id": "0556f073-cc0c-4460-a9b2-88622b1884a2",
   "metadata": {},
   "outputs": [],
   "source": []
  },
  {
   "cell_type": "raw",
   "id": "8da58e27-7ddc-4bc8-830d-1cdee296d62a",
   "metadata": {},
   "source": [
    "3. Sum of Natural Numbers\n",
    "Problem Statement\n",
    "Write a program that calculates the sum of natural numbers up to a given number 'n'. For example, if the input is 5, the program should calculate and display the sum of natural numbers from 1 to 5 (1 + 2 + 3 + 4 + 5 = 15)\n",
    "\n",
    "Input\n",
    "The program will take an integer \n",
    "N\n",
    "N\n",
    "\n",
    "Output\n",
    "The output will print sum of \n",
    "N\n",
    "N numbers.\n",
    "\n",
    "Constraints\n",
    "0 ≤ |N| ≤ 10000\n",
    "Example:\n",
    "Enter number\n",
    "\n",
    "Input:\n",
    "5\n",
    "Output:\n",
    "15"
   ]
  },
  {
   "cell_type": "code",
   "execution_count": 3,
   "id": "b4c1ca65-9454-471a-b00d-6bf25f76cbff",
   "metadata": {},
   "outputs": [
    {
     "name": "stdin",
     "output_type": "stream",
     "text": [
      " 5\n"
     ]
    },
    {
     "name": "stdout",
     "output_type": "stream",
     "text": [
      "<built-in function sum>\n"
     ]
    }
   ],
   "source": [
    "N = int(input())\n",
    "summation = 0\n",
    "for i in range(1,N +1):\n",
    "    summation = summation + i\n",
    "print(summation)"
   ]
  },
  {
   "cell_type": "code",
   "execution_count": 4,
   "id": "83cff107-47e2-4333-beba-ada0f678fc58",
   "metadata": {},
   "outputs": [
    {
     "name": "stdin",
     "output_type": "stream",
     "text": [
      "Enter number: 6\n"
     ]
    },
    {
     "name": "stdout",
     "output_type": "stream",
     "text": [
      "21\n"
     ]
    }
   ],
   "source": [
    "# Read the input\n",
    "N = int(input(\"Enter number:\"))\n",
    "\n",
    "# Check if N is zero\n",
    "if N == 0:\n",
    "    sum_natural = 0\n",
    "else:\n",
    "    sum_natural = N * (N + 1) // 2\n",
    "\n",
    "# Print the result\n",
    "print(sum_natural)"
   ]
  },
  {
   "cell_type": "code",
   "execution_count": null,
   "id": "9e06e967-0135-4748-a500-88539e360dc3",
   "metadata": {},
   "outputs": [],
   "source": []
  },
  {
   "cell_type": "raw",
   "id": "8f23ea5e-b5a8-4239-99b5-f5367419cc88",
   "metadata": {},
   "source": [
    "4. Zero or One\n",
    "\n",
    "Problem Statement\n",
    "A number from 0 to 9 will be presented as an word in lower case english letter. For example- three. The program will take it as input. Print 0 if the remainder is 0 while the number is divided by 2, otherwise print 1 if the remainder is 1.\n",
    "\n",
    "Input\n",
    "The program will take a string S as input.\n",
    "\n",
    "Output\n",
    "The output will print either 0 0r 1.\n",
    "\n",
    "Constraints\n",
    "0 ≤ |S| ≤ 9\n",
    "Example:\n",
    "Enter string\n",
    "\n",
    "Input:\n",
    "three\n",
    "Output:\n",
    "1"
   ]
  },
  {
   "cell_type": "code",
   "execution_count": 5,
   "id": "3d6ec03c-452d-4f86-a3cf-66da7025d798",
   "metadata": {},
   "outputs": [
    {
     "name": "stdin",
     "output_type": "stream",
     "text": [
      " six\n"
     ]
    },
    {
     "name": "stdout",
     "output_type": "stream",
     "text": [
      "0\n"
     ]
    }
   ],
   "source": [
    "#Mapping of word to digit\n",
    "word_to_digit = {\n",
    "    'zero': 0,\n",
    "    'one': 1,\n",
    "    'two': 2,\n",
    "    'three': 3,\n",
    "    'four': 4,\n",
    "    'five': 5,\n",
    "    'six': 6,\n",
    "    'seven': 7,\n",
    "    'eight': 8,\n",
    "    'nine': 9\n",
    "}\n",
    "\n",
    "#input string\n",
    "S = input()\n",
    "\n",
    "#conversion to digit\n",
    "digit = word_to_digit[S]\n",
    "\n",
    "#show reminder\n",
    "print(digit % 2)"
   ]
  },
  {
   "cell_type": "code",
   "execution_count": null,
   "id": "8f90d348-b431-4ad5-ab8b-a8142bcb677e",
   "metadata": {},
   "outputs": [],
   "source": []
  },
  {
   "cell_type": "raw",
   "id": "1b6451d1-40aa-4671-b23a-3c3bba209d98",
   "metadata": {},
   "source": [
    "5. Repdigit\n",
    "\n",
    "Problem Statement\n",
    "Write a program to check whether a number is Repdigit or not. A repdigit is a positive number composed out of the same digit.\n",
    "7 → single digit → repdigit\n",
    "11 → digits are all 1 → repdigit\n",
    "22 → digits are all 2 → repdigit\n",
    "333 → digits are all 3 → repdigit\n",
    "4444 → digits are all 4 → repdigit\n",
    "99999 → digits are all 9 → repdigit\n",
    "\n",
    "Input\n",
    "The input consists of a positive integer number N\n",
    "\n",
    "Output\n",
    "The output will print either \"true\" or \"false\".\n",
    "\n",
    "Constraints\n",
    "0 ≤ |N| ≤ 10000\n",
    "Example:\n",
    "Enter number\n",
    "\n",
    "Input:\n",
    "55\n",
    "Output:\n",
    "true"
   ]
  },
  {
   "cell_type": "code",
   "execution_count": 6,
   "id": "e6551f3f-c20e-4e8b-9e77-4a57ca1c43c5",
   "metadata": {},
   "outputs": [
    {
     "name": "stdin",
     "output_type": "stream",
     "text": [
      " 55\n"
     ]
    },
    {
     "name": "stdout",
     "output_type": "stream",
     "text": [
      "true\n"
     ]
    }
   ],
   "source": [
    "#input digit\n",
    "N = input()\n",
    "\n",
    "if len(set(N)) == 1:\n",
    "    print('true')\n",
    "else:\n",
    "    print('false')"
   ]
  },
  {
   "cell_type": "code",
   "execution_count": null,
   "id": "1af388ef-1de6-4f9b-bd69-ec1c2a131c3f",
   "metadata": {},
   "outputs": [],
   "source": []
  },
  {
   "cell_type": "raw",
   "id": "0c51fe68-cb66-4f62-a896-d12ad446fd6d",
   "metadata": {},
   "source": [
    "6 Sum Digits: Odd or Even?\n",
    "Problem Statement\n",
    "Write a program which will determine whether the sum of all the digits of the number is even or odd.\n",
    "\n",
    "Input\n",
    "The program will take an integer N as input.\n",
    "\n",
    "Output\n",
    "The output will print either \"Odd\" or \"Even\"\n",
    "\n",
    "Constraints\n",
    "0 ≤ |N| ≤ 100000\n",
    "Example:\n",
    "Enter number\n",
    "\n",
    "Input:\n",
    "123\n",
    "Output:\n",
    "Even"
   ]
  },
  {
   "cell_type": "code",
   "execution_count": 10,
   "id": "f0205f00-10df-4018-9966-d578517f26d2",
   "metadata": {},
   "outputs": [
    {
     "name": "stdin",
     "output_type": "stream",
     "text": [
      " 598\n"
     ]
    },
    {
     "name": "stdout",
     "output_type": "stream",
     "text": [
      "22\n",
      "even\n"
     ]
    }
   ],
   "source": [
    "#input number\n",
    "N = list(input())\n",
    "\n",
    "summation = 0\n",
    "\n",
    "for i in N:\n",
    "    summation += int(i)\n",
    "print(summation)\n",
    "if summation%2 == 0:\n",
    "    print('even')\n",
    "else:\n",
    "    print('odd')\n",
    "\n"
   ]
  },
  {
   "cell_type": "code",
   "execution_count": null,
   "id": "03cff5fe-164e-4ebf-a12e-c697403bab52",
   "metadata": {},
   "outputs": [],
   "source": []
  },
  {
   "cell_type": "code",
   "execution_count": 9,
   "id": "4fc805c6-b91a-41b1-a1cb-be515016e2b7",
   "metadata": {},
   "outputs": [
    {
     "name": "stdin",
     "output_type": "stream",
     "text": [
      "Enter number\n",
      " 549\n"
     ]
    },
    {
     "name": "stdout",
     "output_type": "stream",
     "text": [
      "Even\n"
     ]
    }
   ],
   "source": [
    "# Read input as integer\n",
    "N = int(input(\"Enter number\\n\"))\n",
    "\n",
    "# Get the absolute value to handle negative numbers\n",
    "N = abs(N)\n",
    "\n",
    "# Convert to string and sum the digits\n",
    "digit_sum = sum(int(digit) for digit in str(N))\n",
    "\n",
    "# Check if the sum is even or odd\n",
    "if digit_sum % 2 == 0:\n",
    "    print(\"Even\")\n",
    "else:\n",
    "    print(\"Odd\")"
   ]
  },
  {
   "cell_type": "code",
   "execution_count": 1,
   "id": "da903299-6168-43b9-93ef-1c32fc57e9cf",
   "metadata": {},
   "outputs": [
    {
     "name": "stdin",
     "output_type": "stream",
     "text": [
      "Enter number\n",
      " 145\n"
     ]
    },
    {
     "name": "stdout",
     "output_type": "stream",
     "text": [
      "Even\n"
     ]
    }
   ],
   "source": [
    "N = abs(int(input(\"Enter number\\n\")))\n",
    "print(\"Even\" if sum(int(d) for d in str(N)) % 2 == 0 else \"Odd\")"
   ]
  },
  {
   "cell_type": "code",
   "execution_count": null,
   "id": "9bc5290a-e198-43e8-80a6-2d97099cc9f8",
   "metadata": {},
   "outputs": [],
   "source": []
  },
  {
   "cell_type": "code",
   "execution_count": null,
   "id": "75420fda-3757-4e3f-b659-f0d8ddc602aa",
   "metadata": {},
   "outputs": [],
   "source": []
  },
  {
   "cell_type": "code",
   "execution_count": null,
   "id": "020456a9-4440-434d-be34-5bac0d81a846",
   "metadata": {},
   "outputs": [],
   "source": []
  },
  {
   "cell_type": "code",
   "execution_count": null,
   "id": "e72f694f-ba3b-49af-bd1c-359c7e7ead5c",
   "metadata": {},
   "outputs": [],
   "source": []
  },
  {
   "cell_type": "code",
   "execution_count": null,
   "id": "5c007669-5f00-42de-8078-50be49269912",
   "metadata": {},
   "outputs": [],
   "source": []
  },
  {
   "cell_type": "code",
   "execution_count": null,
   "id": "d7eb59f4-a475-4a1d-b3a6-c973ba019ced",
   "metadata": {},
   "outputs": [],
   "source": []
  },
  {
   "cell_type": "code",
   "execution_count": null,
   "id": "5a85e80b-384d-4f9b-a725-6e7dd96bff50",
   "metadata": {},
   "outputs": [],
   "source": []
  },
  {
   "cell_type": "code",
   "execution_count": null,
   "id": "92be376a-9b47-49bd-891b-6e05943894a6",
   "metadata": {},
   "outputs": [],
   "source": []
  },
  {
   "cell_type": "code",
   "execution_count": null,
   "id": "1fdbff99-07bc-4f16-82c1-cb306e0811bf",
   "metadata": {},
   "outputs": [],
   "source": []
  },
  {
   "cell_type": "code",
   "execution_count": null,
   "id": "e3ace43b-2730-4668-9562-49e2f16506b0",
   "metadata": {},
   "outputs": [],
   "source": []
  },
  {
   "cell_type": "code",
   "execution_count": null,
   "id": "856c331b-e698-4a2d-9cb0-9d6ecd039755",
   "metadata": {},
   "outputs": [],
   "source": []
  },
  {
   "cell_type": "code",
   "execution_count": null,
   "id": "7a3908df-358c-4884-8d19-e8142d45c87b",
   "metadata": {},
   "outputs": [],
   "source": []
  },
  {
   "cell_type": "code",
   "execution_count": null,
   "id": "91eea9e4-fce9-4556-bff6-f33aabb27238",
   "metadata": {},
   "outputs": [],
   "source": []
  },
  {
   "cell_type": "code",
   "execution_count": null,
   "id": "5eb01f8c-2dcc-47e0-a273-07f57c97b6ca",
   "metadata": {},
   "outputs": [],
   "source": []
  },
  {
   "cell_type": "code",
   "execution_count": null,
   "id": "dbb39300-e89c-4094-9d21-598cf2864f5f",
   "metadata": {},
   "outputs": [],
   "source": []
  },
  {
   "cell_type": "code",
   "execution_count": null,
   "id": "f3d156ac-72f5-482e-a070-e15b152f56ad",
   "metadata": {},
   "outputs": [],
   "source": []
  },
  {
   "cell_type": "code",
   "execution_count": null,
   "id": "0e3b1ae0-14dc-4639-9fcd-4fc8699150d8",
   "metadata": {},
   "outputs": [],
   "source": []
  },
  {
   "cell_type": "code",
   "execution_count": null,
   "id": "f162c1ef-6a63-41e9-a989-49f558825114",
   "metadata": {},
   "outputs": [],
   "source": []
  },
  {
   "cell_type": "code",
   "execution_count": null,
   "id": "e71b509a-9e57-4288-a270-c5fb84c9f78d",
   "metadata": {},
   "outputs": [],
   "source": []
  },
  {
   "cell_type": "code",
   "execution_count": null,
   "id": "a1946411-31d4-4497-8de4-170a26255a60",
   "metadata": {},
   "outputs": [],
   "source": []
  },
  {
   "cell_type": "code",
   "execution_count": null,
   "id": "4cd6e646-d358-4a9a-b13b-c393d51fa5d2",
   "metadata": {},
   "outputs": [],
   "source": []
  },
  {
   "cell_type": "code",
   "execution_count": null,
   "id": "72ae318e-c236-4e7b-89ad-86a9e8c50e42",
   "metadata": {},
   "outputs": [],
   "source": []
  },
  {
   "cell_type": "code",
   "execution_count": null,
   "id": "4745a7b0-af3d-4780-98a4-e1d8ed6144a8",
   "metadata": {},
   "outputs": [],
   "source": []
  },
  {
   "cell_type": "code",
   "execution_count": null,
   "id": "6a6a0c80-1758-4310-a11b-aca84814d049",
   "metadata": {},
   "outputs": [],
   "source": []
  },
  {
   "cell_type": "code",
   "execution_count": null,
   "id": "966aa2cc-f75a-4e6a-ba24-c12aa5fe1ff0",
   "metadata": {},
   "outputs": [],
   "source": []
  },
  {
   "cell_type": "code",
   "execution_count": null,
   "id": "6af213d7-d802-4275-b8c8-86398d83d53d",
   "metadata": {},
   "outputs": [],
   "source": []
  },
  {
   "cell_type": "code",
   "execution_count": null,
   "id": "02db402d-ca2b-421d-b606-dd451a9c9d26",
   "metadata": {},
   "outputs": [],
   "source": []
  },
  {
   "cell_type": "code",
   "execution_count": null,
   "id": "e1a37e2e-ca8a-4c54-8db2-2edd0a12f973",
   "metadata": {},
   "outputs": [],
   "source": []
  },
  {
   "cell_type": "code",
   "execution_count": null,
   "id": "1aa53cb0-0cfe-4785-b0b9-c07bbc8d085b",
   "metadata": {},
   "outputs": [],
   "source": []
  }
 ],
 "metadata": {
  "kernelspec": {
   "display_name": "Python 3 (ipykernel)",
   "language": "python",
   "name": "python3"
  },
  "language_info": {
   "codemirror_mode": {
    "name": "ipython",
    "version": 3
   },
   "file_extension": ".py",
   "mimetype": "text/x-python",
   "name": "python",
   "nbconvert_exporter": "python",
   "pygments_lexer": "ipython3",
   "version": "3.13.5"
  }
 },
 "nbformat": 4,
 "nbformat_minor": 5
}
